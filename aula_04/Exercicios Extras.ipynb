{
 "cells": [
  {
   "cell_type": "markdown",
   "metadata": {},
   "source": [
    "EXERCICIOS DE FUNÇÕES"
   ]
  },
  {
   "cell_type": "code",
   "execution_count": 2,
   "metadata": {},
   "outputs": [
    {
     "name": "stdout",
     "output_type": "stream",
     "text": [
      "A soma dos numeros é 10\n",
      "A média dos numeros é 5.0\n"
     ]
    }
   ],
   "source": [
    "def soma_e_media(param1,param2):\n",
    "    soma = param1 + param2\n",
    "    media = (param1 + param2) / 2\n",
    "\n",
    "    return soma,media\n",
    "\n",
    "calculo = soma_e_media(5,5)\n",
    "\n",
    "print(f'A soma dos numeros é {calculo[0]}')\n",
    "print(f'A média dos numeros é {calculo[1]}')"
   ]
  },
  {
   "cell_type": "markdown",
   "metadata": {},
   "source": [
    "FUNÇÕES LAMBDA:\n",
    "As funções lambda são funções anônimas de uma única linha, úteis para tarefas simples."
   ]
  },
  {
   "cell_type": "code",
   "execution_count": 3,
   "metadata": {},
   "outputs": [
    {
     "name": "stdout",
     "output_type": "stream",
     "text": [
      "15\n"
     ]
    }
   ],
   "source": [
    "soma_com_10 = lambda param1: param1 + 10\n",
    "\n",
    "print(soma_com_10(5))"
   ]
  },
  {
   "cell_type": "markdown",
   "metadata": {},
   "source": [
    "CALCULADORA SIMPLES:\n",
    "Começamos com uma calculadora simples. Crie funções para realizar operações matemáticas básicas – adição, subtração, multiplicação e divisão. Permita que o usuário escolha a operação, insira os números e retorne o resultado."
   ]
  },
  {
   "cell_type": "code",
   "execution_count": 8,
   "metadata": {},
   "outputs": [
    {
     "name": "stdout",
     "output_type": "stream",
     "text": [
      "2.5\n"
     ]
    }
   ],
   "source": [
    "\n",
    "n1 = int(input('Insira o primeiro número: '))\n",
    "n2 = int(input('Insira o segundo número: '))\n",
    "\n",
    "operação = input('Qual operação deseja realziar ? (+ , - , * , /): ')\n",
    "\n",
    "def calculadora(param1,param2):\n",
    "    try:\n",
    "        if operação == '+':\n",
    "            print(param1 + param2)\n",
    "        elif operação == '-':\n",
    "            print(param1 - param2)\n",
    "        elif operação == '*':\n",
    "            print(param1 * param2)\n",
    "        else:\n",
    "            print(param1 / param2)\n",
    "    except:\n",
    "      print(f'O programa apresentou o seguinte erro {TypeError}')\n",
    "    return\n",
    "\n",
    "calculadora(n1,n2)"
   ]
  },
  {
   "cell_type": "markdown",
   "metadata": {},
   "source": [
    "Escreva uma função que conte o número de palavras em uma frase. Solicite ao usuário uma frase e use a função para contar as palavras."
   ]
  },
  {
   "cell_type": "code",
   "execution_count": 9,
   "metadata": {},
   "outputs": [
    {
     "name": "stdout",
     "output_type": "stream",
     "text": [
      "Sua frase possui 5 palavras\n"
     ]
    }
   ],
   "source": [
    "frase = input(f'Digite a frase para contar o numero de palavras: ')\n",
    "\n",
    "def contar_palavras(text):\n",
    "    palavras = text.split()\n",
    "    return len(palavras)\n",
    "\n",
    "print(f'Sua frase possui {contar_palavras(frase)} palavras')\n"
   ]
  },
  {
   "cell_type": "markdown",
   "metadata": {},
   "source": [
    "Calculadora de Média\n",
    "Crie uma função que calcule a média de uma lista de números. Peça ao usuário para inserir uma lista de números separados por vírgulas e use a função para calcular a média."
   ]
  },
  {
   "cell_type": "code",
   "execution_count": 19,
   "metadata": {},
   "outputs": [
    {
     "name": "stdout",
     "output_type": "stream",
     "text": [
      "10\n",
      "None\n"
     ]
    }
   ],
   "source": [
    "asomar = input('Digite a lista de numeros a serem somados (separar por espaço) :')\n",
    "numeros =  [int(x) for x in asomar.split(',')] \n",
    "\n",
    "def somar_lista(param1):\n",
    "    soma = 0\n",
    "    for n in param1:\n",
    "        soma += n\n",
    "    return print(soma)\n",
    "\n",
    "\n",
    "print(somar_lista(numeros))\n"
   ]
  },
  {
   "cell_type": "markdown",
   "metadata": {},
   "source": [
    "DOMINANDO DICT"
   ]
  },
  {
   "cell_type": "markdown",
   "metadata": {},
   "source": [
    "1. Criar um Dicionário\n",
    "Vamos começar pelo básico. Crie um dicionário que represente informações sobre uma pessoa, como nome, idade, cidade natal e profissão."
   ]
  },
  {
   "cell_type": "code",
   "execution_count": 29,
   "metadata": {},
   "outputs": [
    {
     "name": "stdout",
     "output_type": "stream",
     "text": [
      "O nome da pessoa é: Maria sua idade é 30 anos\n"
     ]
    }
   ],
   "source": [
    "pessoa: dict = {\n",
    "    \"nome\": \"Maria\",\n",
    "    \"idade\": 30,\n",
    "    \"cidade\": \"São Paulo\",\n",
    "    \"profissão\": \"Engenheiro de Dados\"\n",
    "}\n",
    "\n",
    "print(f'O nome da pessoa é: {pessoa[\"nome\"]} sua idade é {pessoa[\"idade\"]} anos')"
   ]
  },
  {
   "cell_type": "markdown",
   "metadata": {},
   "source": [
    "MODIFICANDO OS DADOS DO DICT"
   ]
  },
  {
   "cell_type": "code",
   "execution_count": 28,
   "metadata": {},
   "outputs": [
    {
     "name": "stdout",
     "output_type": "stream",
     "text": [
      "O nome da pessoa é: Maria sua idade é 50 anos\n"
     ]
    }
   ],
   "source": [
    "\n",
    "pessoa[\"idade\"] = 50\n",
    "\n",
    "print(f'O nome da pessoa é: {pessoa[\"nome\"]} sua idade é {pessoa[\"idade\"]} anos')"
   ]
  },
  {
   "cell_type": "markdown",
   "metadata": {},
   "source": [
    "ADICIONANDO DADOS NO DICT"
   ]
  },
  {
   "cell_type": "code",
   "execution_count": 31,
   "metadata": {},
   "outputs": [
    {
     "name": "stdout",
     "output_type": "stream",
     "text": [
      "Dicionário atualizado: {'nome': 'Maria', 'idade': 30, 'cidade': 'São Paulo', 'profissão': 'Engenheiro de Dados', 'email': 'joao.alvescont@gmail.com', 'telefone': '123-456-7890'}\n"
     ]
    }
   ],
   "source": [
    "pessoa[\"email\"] = \"joao.alvescont@gmail.com\"\n",
    "pessoa[\"telefone\"] = \"123-456-7890\"\n",
    "print(\"Dicionário atualizado:\", pessoa)\n"
   ]
  },
  {
   "cell_type": "markdown",
   "metadata": {},
   "source": [
    "REMOVENDO VALORES DO DICT"
   ]
  },
  {
   "cell_type": "code",
   "execution_count": 32,
   "metadata": {},
   "outputs": [
    {
     "name": "stdout",
     "output_type": "stream",
     "text": [
      "DICT atualizado {'nome': 'Maria', 'idade': 30, 'cidade': 'São Paulo', 'profissão': 'Engenheiro de Dados', 'email': 'joao.alvescont@gmail.com'}\n"
     ]
    }
   ],
   "source": [
    "if \"telefone\" in pessoa:\n",
    "    del pessoa[\"telefone\"]\n",
    "\n",
    "print(f'DICT atualizado {pessoa}')"
   ]
  },
  {
   "cell_type": "markdown",
   "metadata": {},
   "source": [
    "ITERANDO PELO DICT Vamos socializar. Crie um dicionário com informações sobre vários amigos. Use um loop para iterar pelos itens do dicionário e imprimir os nomes e idades dos amigos."
   ]
  },
  {
   "cell_type": "code",
   "execution_count": 40,
   "metadata": {},
   "outputs": [
    {
     "name": "stdout",
     "output_type": "stream",
     "text": [
      "Meu amigo João, tem 25 anos\n",
      "Meu amigo Juliana, tem 34 anos\n",
      "Meu amigo Ingrid, tem 27 anos\n"
     ]
    }
   ],
   "source": [
    "amigos: dict = {\n",
    "    \"João\": 25,\n",
    "    \"Juliana\": 34,\n",
    "    \"Ingrid\": 27\n",
    "}\n",
    "\n",
    "for nome, idade in amigos.items():\n",
    "    print(f'Meu amigo {nome}, tem {idade} anos')"
   ]
  },
  {
   "cell_type": "markdown",
   "metadata": {},
   "source": [
    "Verificar se uma Chave Existe\n",
    "Seja um detetive. Peça ao usuário para inserir o nome de um amigo e verifique se esse nome existe no dicionário de amigos. Imprima uma mensagem informando se o amigo está ou não na lista."
   ]
  },
  {
   "cell_type": "code",
   "execution_count": 44,
   "metadata": {},
   "outputs": [
    {
     "name": "stdout",
     "output_type": "stream",
     "text": [
      "Seu amigo João está na lista\n"
     ]
    }
   ],
   "source": [
    "search = input('Pesquise se seu amigo está na lista: ')\n",
    "\n",
    "if search in amigos:\n",
    "    print(f'Seu amigo {search} está na lista')\n",
    "\n",
    "else:\n",
    "    print('Seu amigo não está na lista :(')"
   ]
  },
  {
   "cell_type": "markdown",
   "metadata": {},
   "source": [
    "Contar o Número de Itens\n",
    "Faça uma contagem. Conte quantos amigos existem no dicionário e imprima o resultado"
   ]
  },
  {
   "cell_type": "code",
   "execution_count": 46,
   "metadata": {},
   "outputs": [
    {
     "name": "stdout",
     "output_type": "stream",
     "text": [
      "Existem 3 amigos na sua lista !\n"
     ]
    }
   ],
   "source": [
    "contar_amigos = len(amigos)\n",
    "\n",
    "print(f'Existem {contar_amigos} amigos na sua lista !')"
   ]
  },
  {
   "cell_type": "markdown",
   "metadata": {},
   "source": [
    "9. Dicionário de Tradução\n",
    "Que comece a tradução. Crie um dicionário de tradução que mapeie palavras de um idioma para outro (por exemplo, inglês para espanhol). Peça ao usuário para inserir uma palavra em inglês e, em seguida, imprima a tradução correspondente."
   ]
  },
  {
   "cell_type": "code",
   "execution_count": 53,
   "metadata": {},
   "outputs": [
    {
     "name": "stdout",
     "output_type": "stream",
     "text": [
      "Infelizmente a sua palavra ainda não contém tradução no nosso sistema :( \n",
      "Carregando nosso sistema....\n",
      "Carregando inserção, a lista atualizada é...\n",
      "Dicionário completo: {'Olá': 'Hello', 'Tchau': 'Bye Bye', 'Agua': 'Water', 'Cavalo': 'Horse'}\n"
     ]
    }
   ],
   "source": [
    "import time\n",
    "\n",
    "translate = {\n",
    "    \"Olá\": \"Hello\",\n",
    "    \"Tchau\": \"Bye Bye\",\n",
    "    \"Agua\": \"Water\"\n",
    "}\n",
    "\n",
    "word = input(f'Qual palavra você deseja verificar a traduação do port para ingles? ')\n",
    "\n",
    "if word in translate:\n",
    "        print(f'A palavra {word} traduzida para inglês é {translate[word]}')\n",
    "else:\n",
    "    print('Infelizmente a sua palavra ainda não contém tradução no nosso sistema :( ')\n",
    "    add = input(f'Deseja inserir a palavra em nosso sistema: (Sim ou Não) ')\n",
    "    if add == \"Sim\":\n",
    "        print(f'Carregando nosso sistema....')\n",
    "        time.sleep(2)\n",
    "        significado = input(f'Qual a tradução da palavra {word} para o inglês? ')\n",
    "        translate[word] = significado\n",
    "        print(f'Carregando inserção, a lista atualizada é...')\n",
    "        time.sleep(2)\n",
    "        print(f'Dicionário completo: {translate}')\n",
    "    else:\n",
    "         print('Sistema finalizado!')"
   ]
  }
 ],
 "metadata": {
  "kernelspec": {
   "display_name": "Python 3",
   "language": "python",
   "name": "python3"
  },
  "language_info": {
   "codemirror_mode": {
    "name": "ipython",
    "version": 3
   },
   "file_extension": ".py",
   "mimetype": "text/x-python",
   "name": "python",
   "nbconvert_exporter": "python",
   "pygments_lexer": "ipython3",
   "version": "3.12.1"
  }
 },
 "nbformat": 4,
 "nbformat_minor": 2
}
